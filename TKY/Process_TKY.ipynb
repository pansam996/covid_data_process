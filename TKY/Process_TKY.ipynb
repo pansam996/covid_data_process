{
 "metadata": {
  "language_info": {
   "codemirror_mode": {
    "name": "ipython",
    "version": 3
   },
   "file_extension": ".py",
   "mimetype": "text/x-python",
   "name": "python",
   "nbconvert_exporter": "python",
   "pygments_lexer": "ipython3",
   "version": 3
  },
  "orig_nbformat": 2
 },
 "nbformat": 4,
 "nbformat_minor": 2,
 "cells": [
  {
   "cell_type": "code",
   "execution_count": null,
   "metadata": {},
   "outputs": [],
   "source": [
    "import os\n",
    "import numpy as np\n",
    "import pandas as pd\n",
    "import random\n",
    "import math\n",
    "from datetime import datetime\n",
    "from math import radians, cos, sin, asin, sqrt\n",
    "import networkx as nx\n",
    "import matplotlib.pyplot as plt"
   ]
  },
  {
   "source": [
    "#### 經緯度換算"
   ],
   "cell_type": "markdown",
   "metadata": {}
  },
  {
   "cell_type": "code",
   "execution_count": null,
   "metadata": {},
   "outputs": [],
   "source": [
    "def haversine(lon1, lat1, lon2, lat2): # 經度1，緯度1，經度2，緯度2 （十進制）\n",
    "    \"\"\"\n",
    "    Calculate the great circle distance between two points \n",
    "    on the earth (specified in decimal degrees)\n",
    "    \"\"\"\n",
    "    # 將十進制轉為弧度\n",
    "    lon1, lat1, lon2, lat2 = map(radians, [lon1, lat1, lon2, lat2])\n",
    " \n",
    "    # haversine公式\n",
    "    dlon = lon2 - lon1 \n",
    "    dlat = lat2 - lat1 \n",
    "    a = sin(dlat/2)**2 + cos(lat1) * cos(lat2) * sin(dlon/2)**2\n",
    "    c = 2 * asin(sqrt(a)) \n",
    "    r = 6371 # 地球平均半徑，單位為公里\n",
    "    return c * r * 1000"
   ]
  },
  {
   "source": [
    "#### Calculate the total user"
   ],
   "cell_type": "markdown",
   "metadata": {}
  },
  {
   "cell_type": "code",
   "execution_count": null,
   "metadata": {},
   "outputs": [],
   "source": [
    "#### TKY\n",
    "tky_data = pd.read_csv('./dataset_TSMC2014_TKY.txt',header=None,sep='\\t',encoding='latin1')"
   ]
  },
  {
   "cell_type": "code",
   "execution_count": null,
   "metadata": {},
   "outputs": [],
   "source": [
    "all_user = tky_data[:][0]\n",
    "user_x = tky_data[:][4]\n",
    "user_y = tky_data[:][5]\n",
    "\n",
    "# process the unique date\n",
    "all_time = tky_data[:][7]\n",
    "all_time = all_time.str[4:10]\n",
    "unique_date = np.unique(np.array(all_time))\n",
    "print('total date : ', unique_date.shape[0])\n",
    "unique_date = sorted(unique_date, key=lambda day: datetime.strptime(day, \"%b %d\"))\n",
    "unique_date = unique_date[42:] + unique_date[:42]"
   ]
  },
  {
   "cell_type": "code",
   "execution_count": null,
   "metadata": {},
   "outputs": [],
   "source": [
    "unique_user = np.unique(np.array(all_user))\n",
    "print('TKY user number : ',unique_user.shape)"
   ]
  },
  {
   "source": [
    "#### user_user_distance.txt"
   ],
   "cell_type": "markdown",
   "metadata": {}
  },
  {
   "cell_type": "code",
   "execution_count": null,
   "metadata": {},
   "outputs": [],
   "source": [
    "# with open('./user_user_distance_TKY.txt','w') as f:\n",
    "#     for idx in range(len(unique_date)) :\n",
    "#         print('='*10,idx,'='*10)\n",
    "#         select_date_datas = tky_data [all_time == unique_date[idx] ]\n",
    "#         index_table = list(select_date_datas[0])\n",
    "#         select_date_id = np.unique(np.array(select_date_datas[0]))\n",
    "#         select_date_id = sorted(select_date_id)\n",
    "#         ## calculate user1 and user2 distance in select date\n",
    "#         for user1 in select_date_id:\n",
    "#             user1_index = index_table.index(user1)\n",
    "#             user1_x = select_date_datas.iloc[user1_index][4]\n",
    "#             user1_y = select_date_datas.iloc[user1_index][5]\n",
    "#             for user2 in select_date_id:                \n",
    "#                 if user1 >= user2:\n",
    "#                     continue\n",
    "#                 # calculate distance\n",
    "#                 else:\n",
    "#                     user2_index = index_table.index(user2)\n",
    "#                     user2_x = select_date_datas.iloc[user2_index][4]\n",
    "#                     user2_y = select_date_datas.iloc[user2_index][5]\n",
    "#                     d = int(haversine(user1_x, user1_y, user2_x, user2_y))\n",
    "#                     if d <= 1000:\n",
    "#                         f.write('{},{},{},{}\\n'.format(idx, user1, user2, d))\n",
    "# f.close()"
   ]
  },
  {
   "source": [
    "#### Read data"
   ],
   "cell_type": "markdown",
   "metadata": {}
  },
  {
   "cell_type": "code",
   "execution_count": null,
   "metadata": {},
   "outputs": [],
   "source": [
    "path = './user_user_distance_TKY.txt'\n",
    "\n",
    "data = pd.read_csv(path,header=None,sep=',')\n",
    "# column info\n",
    "time = data[:][0] # timeslot\n",
    "id_1 = data[:][1] # userid 1\n",
    "id_2 = data[:][2] # userid 2\n",
    "distance = data[:][3] # distance\n"
   ]
  },
  {
   "source": [
    "#### Get the unique id"
   ],
   "cell_type": "markdown",
   "metadata": {}
  },
  {
   "cell_type": "code",
   "execution_count": null,
   "metadata": {},
   "outputs": [],
   "source": [
    "tmp_id1 = np.array(id_1)\n",
    "tmp_id2 = np.array(id_2)\n",
    "all_id = np.concatenate((tmp_id1,tmp_id2),axis=0)\n",
    "unique_id = np.unique(all_id)\n",
    "print(unique_id)\n",
    "print('unique id number : ', unique_id.shape)"
   ]
  },
  {
   "source": [
    "#### File generate"
   ],
   "cell_type": "markdown",
   "metadata": {}
  },
  {
   "cell_type": "code",
   "execution_count": null,
   "metadata": {},
   "outputs": [],
   "source": [
    "#############edit threshold ,day ,groups here#####################\n",
    "threshold = 500\n",
    "day = 10\n",
    "groups = 10\n",
    "###########################################\n",
    "\n",
    "match_nodes = []\n",
    "edge_list = []\n",
    "\n",
    "for i in range(len(data)):\n",
    "    if distance[i] <= threshold:\n",
    "        match_nodes.append(id_1[i])\n",
    "        match_nodes.append(id_2[i])\n",
    "        edge_list.append([id_1[i],id_2[i]])\n",
    "        \n",
    "\n",
    "        \n",
    "G = nx.Graph()\n",
    "# add node\n",
    "for i in range(len(match_nodes)):\n",
    "    G.add_node(match_nodes[i])\n",
    "\n",
    "# add edge\n",
    "for i in range(len(edge_list)):\n",
    "    G.add_edge(edge_list[i][0],edge_list[i][1])\n",
    "\n",
    "print('edge number :',G.number_of_edges(),'\\nnode number :',G.number_of_nodes())\n",
    "\n",
    "all_edge = list(G.edges)\n",
    "all_edge.sort()\n",
    "\n",
    "all_node = list(G.nodes)\n",
    "all_node.sort()\n",
    "\n",
    "#### Graph.txt\n",
    "with open('./graph_TKY.txt','w') as f:\n",
    "    f.write('{} {},{},{}\\n'.format('g', G.number_of_nodes(), G.number_of_edges(), day*groups))\n",
    "f.close()\n",
    "\n",
    "#### Node\n",
    "with open('./graph_TKY.txt','a') as f:\n",
    "    for i in unique_id:\n",
    "        node_type = random.randint(0,3)\n",
    "        R = round(random.uniform(0,1),3)\n",
    "        Ct = round(random.uniform(0,1),3)\n",
    "        S = round(random.uniform(0,1),3)\n",
    "        Cr = round(random.uniform(0,1),3)\n",
    "        HI = round(random.uniform(0,1),3)\n",
    "        HA = round(random.uniform(0,1),3)\n",
    "        HT = round(random.uniform(0,1),3)\n",
    "        D = round(random.uniform(0,1),3)\n",
    "        f.write('{} {},{},{},{},{},{},{},{},{},{}\\n'.format('n',i - 1, node_type, R, Ct, S, Cr, HI, HA, HT, D))\n",
    "f.close()\n",
    "\n",
    "\n",
    "#### Edge\n",
    "with open('./graph_TKY.txt','a') as f:\n",
    "    for i in range(len(all_edge)):\n",
    "        prob = random.uniform(0,1)\n",
    "        node1 = all_edge[i][0] - 1\n",
    "        node2 = all_edge[i][1] - 1\n",
    "        f.write('{} {},{},{}\\n'.format('e',node1,node2,round(prob,3)))\n",
    "f.close()"
   ]
  },
  {
   "source": [
    "#### Read the checkin data"
   ],
   "cell_type": "markdown",
   "metadata": {}
  },
  {
   "cell_type": "code",
   "execution_count": null,
   "metadata": {},
   "outputs": [],
   "source": [
    "path = './dataset_TSMC2014_TKY.txt'\n",
    "\n",
    "user_data = pd.read_csv(path,header=None,sep='\\t',encoding='latin1')\n",
    "user_id = user_data[:][0]\n",
    "user_x = user_data[:][4]\n",
    "user_y = user_data[:][5]\n",
    "check_in_id = np.unique(np.array(user_id))\n",
    "print('check in id number : ',check_in_id.shape)"
   ]
  },
  {
   "source": [
    "#### Calculater user center"
   ],
   "cell_type": "markdown",
   "metadata": {}
  },
  {
   "cell_type": "code",
   "execution_count": null,
   "metadata": {},
   "outputs": [],
   "source": [
    "# user_center = { u : (0,0) for u in all_node}\n",
    "\n",
    "# for i in check_in_id:\n",
    "#     x = sum(user_x[user_id == i]) / len(user_id[user_id == i])\n",
    "#     y = sum(user_y[user_id == i]) / len(user_id[user_id == i])\n",
    "#     if math.isnan(x) or math.isnan(y):\n",
    "#         user_center[i] = (0,0)\n",
    "#     else:    \n",
    "#         user_center[i] = (x, y)"
   ]
  },
  {
   "cell_type": "code",
   "execution_count": null,
   "metadata": {},
   "outputs": [],
   "source": [
    "# # save the user center\n",
    "# with open('./user_center_TKY.txt' ,'w') as f:\n",
    "#     for i in all_node:\n",
    "#         f.write('{},{},{}\\n'.format(i,round(user_center[i][0],4),round(user_center[i][1],4)))\n",
    "# f.close()"
   ]
  },
  {
   "source": [
    "#### Calculate the max radius"
   ],
   "cell_type": "markdown",
   "metadata": {}
  },
  {
   "cell_type": "code",
   "execution_count": null,
   "metadata": {},
   "outputs": [],
   "source": [
    "user_center_data = pd.read_csv('./user_center_TKY.txt',header=None,sep=',')\n",
    "user_x = np.array(user_center_data[:][1])\n",
    "user_y = np.array(user_center_data[:][2])\n",
    "#### find the farest x_value on +x axis and -x axis\n",
    "x_max = np.amax(user_x)\n",
    "x_min = np.amin(user_x)\n",
    "#### find the farest y_value on +y axis and -y axis\n",
    "y_max = np.amax(user_y)\n",
    "y_min = np.amin(user_y)\n",
    "\n",
    "length = round(haversine(x_max,y_max,x_min,y_min),2)\n",
    "max_radius = round(length/2,2)\n",
    "print('diagonal length : ',length)\n",
    "print('max radius : ',max_radius)"
   ]
  },
  {
   "source": [
    "#### user on the graph"
   ],
   "cell_type": "markdown",
   "metadata": {}
  },
  {
   "cell_type": "code",
   "execution_count": null,
   "metadata": {},
   "outputs": [],
   "source": [
    "plt.figure(figsize=(8,8))\n",
    "plt.scatter(user_x,user_y)\n",
    "plt.show()"
   ]
  },
  {
   "source": [
    "#### Select the group"
   ],
   "cell_type": "markdown",
   "metadata": {}
  },
  {
   "cell_type": "code",
   "execution_count": null,
   "metadata": {},
   "outputs": [],
   "source": [
    "##### group\n",
    "with open('./graph_TKY.txt','a') as f:\n",
    "    for d in range(day):    \n",
    "        ## random radius by \"normal distrubtion\"\n",
    "        radius = np.random.normal(max_radius,scale=10000,size = groups)\n",
    "        ## random user be the center\n",
    "        centers = np.random.randint(0,G.number_of_nodes() - 1,size = groups)\n",
    "        \n",
    "        for idx in range(groups):\n",
    "            # empty set\n",
    "            sd = set()\n",
    "            cost = random.randint(1,10)\n",
    "            lv = random.randint(0,3)\n",
    "            eta = -1\n",
    "            # find the user that in the center range\n",
    "            for i in range(len(all_node)):\n",
    "                center_x = user_center_data[1][centers[idx]]\n",
    "                center_y = user_center_data[2][centers[idx]]\n",
    "                compare_x = user_center_data[1][i]\n",
    "                compare_y = user_center_data[2][i]\n",
    "                l = haversine(center_x, center_y ,compare_x,compare_y ) \n",
    "                if l <= radius[idx]:\n",
    "                    sd.add(i)\n",
    "            f.write('{} {}_{}_{}_{}_{}\\n'.format('X', d, cost, lv, eta, \",\".join(str(i) for i in sd)))        \n",
    "f.close() "
   ]
  }
 ]
}