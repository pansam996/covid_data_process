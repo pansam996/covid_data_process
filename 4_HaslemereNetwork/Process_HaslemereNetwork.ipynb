{
 "metadata": {
  "language_info": {
   "codemirror_mode": {
    "name": "ipython",
    "version": 3
   },
   "file_extension": ".py",
   "mimetype": "text/x-python",
   "name": "python",
   "nbconvert_exporter": "python",
   "pygments_lexer": "ipython3",
   "version": "3.6.8-final"
  },
  "orig_nbformat": 2,
  "kernelspec": {
   "name": "python36864bit3684e98e233f030476eac2c2da87f295fb0",
   "display_name": "Python 3.6.8 64-bit ('3.6.8')"
  }
 },
 "nbformat": 4,
 "nbformat_minor": 2,
 "cells": [
  {
   "cell_type": "code",
   "execution_count": 2,
   "metadata": {},
   "outputs": [],
   "source": [
    "import os\n",
    "import numpy as np\n",
    "import pandas as pd\n",
    "import random\n",
    "import math\n",
    "from datetime import datetime\n",
    "from math import radians, cos, sin, asin, sqrt\n",
    "import networkx as nx\n",
    "import matplotlib.pyplot as plt"
   ]
  },
  {
   "cell_type": "code",
   "execution_count": 1,
   "metadata": {},
   "outputs": [],
   "source": [
    "path = './Kissler_DataS1.csv'\n",
    "\n",
    "data = pd.read_csv(path,header=None,sep=',')"
   ]
  },
  {
   "cell_type": "code",
   "execution_count": null,
   "metadata": {},
   "outputs": [],
   "source": [
    "# column info\n",
    "time = data[:][0] # timeslot\n",
    "id_1 = data[:][1] # userid 1\n",
    "id_2 = data[:][2] # userid 2\n",
    "distance = data[:][3] # distance"
   ]
  },
  {
   "source": [
    "#### File generate"
   ],
   "cell_type": "markdown",
   "metadata": {}
  },
  {
   "cell_type": "code",
   "execution_count": null,
   "metadata": {},
   "outputs": [],
   "source": [
    "#############edit threshlod ,day , groups here#####################\n",
    "threshold = 50\n",
    "day = 10\n",
    "groups = 10\n",
    "###########################################\n",
    "\n",
    "match_nodes = []\n",
    "edge_list = []\n",
    "\n",
    "for i in range(len(data)):\n",
    "    if distance[i] <= threshold:\n",
    "        match_nodes.append(id_1[i])\n",
    "        match_nodes.append(id_2[i])\n",
    "        edge_list.append([id_1[i],id_2[i]])\n",
    "        \n",
    "\n",
    "        \n",
    "G = nx.Graph()\n",
    "# add node\n",
    "for i in range(len(match_nodes)):\n",
    "    G.add_node(match_nodes[i])\n",
    "\n",
    "# add edge\n",
    "for i in range(len(edge_list)):\n",
    "    G.add_edge(edge_list[i][0],edge_list[i][1])\n",
    "\n",
    "print('edge number :',G.number_of_edges(),'\\nnode number :',G.number_of_nodes())\n",
    "\n",
    "all_edge = list(G.edges)\n",
    "all_edge.sort()\n",
    "\n",
    "all_node = list(G.nodes)\n",
    "all_node.sort()\n",
    "\n",
    "#### Graph.txt\n",
    "with open('./graph_4.txt','w') as f:\n",
    "    f.write('{} {},{},{}\\n'.format('g', G.number_of_nodes(), G.number_of_edges(), day*groups))\n",
    "f.close()\n",
    "\n",
    "#### Node\n",
    "with open('./graph_4.txt','a') as f:\n",
    "    for i in unique_id:\n",
    "        node_type = random.randint(0,3)\n",
    "        R = round(random.uniform(0,1),3)\n",
    "        Ct = round(random.uniform(0,1),3)\n",
    "        S = round(random.uniform(0,1),3)\n",
    "        Cr = round(random.uniform(0,1),3)\n",
    "        HI = round(random.uniform(0,1),3)\n",
    "        HA = round(random.uniform(0,1),3)\n",
    "        HT = round(random.uniform(0,1),3)\n",
    "        D = round(random.uniform(0,1),3)\n",
    "        f.write('{} {},{},{},{},{},{},{},{},{},{}\\n'.format('n',i - 1, node_type, R, Ct, S, Cr, HI, HA, HT, D))\n",
    "f.close()\n",
    "\n",
    "\n",
    "#### Edge\n",
    "with open('./graph_4.txt','a') as f:\n",
    "    for i in range(len(all_edge)):\n",
    "        prob = random.uniform(0,1)\n",
    "        node1 = all_edge[i][0] - 1\n",
    "        node2 = all_edge[i][1] - 1\n",
    "        f.write('{} {},{},{}\\n'.format('e',node1,node2,round(prob,3)))\n",
    "f.close()\n",
    "\n",
    "\n",
    "#### Group\n",
    "with open('./graph_4.txt','a') as f:\n",
    "    for d in range(day):\n",
    "        for group_num in range(groups):\n",
    "            user_num = random.randint(60,120)\n",
    "            users = np.random.randint(0,G.number_of_nodes()-1,size = user_num)\n",
    "            cost = random.randint(1,10)\n",
    "            lv = random.randint(1,3)\n",
    "            eta = -1\n",
    "            f.write('{} {}_{}_{}_{}_{}\\n'.format('X', d, cost, lv, eta, \",\".join(str(i) for i in users)))\n",
    "f.close()"
   ]
  },
  {
   "source": [
    "#### user on the graph"
   ],
   "cell_type": "markdown",
   "metadata": {}
  },
  {
   "cell_type": "code",
   "execution_count": null,
   "metadata": {},
   "outputs": [],
   "source": [
    "plt.figure(1,figsize=(8,8))\n",
    "nx.draw_networkx_nodes(G,pos=nx.random_layout(G),node_size=20)\n",
    "plt.show()"
   ]
  }
 ]
}