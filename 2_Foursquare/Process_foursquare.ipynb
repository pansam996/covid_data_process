{
 "cells": [
  {
   "cell_type": "code",
   "execution_count": 1,
   "metadata": {},
   "outputs": [
    {
     "name": "stderr",
     "output_type": "stream",
     "text": [
      "/home/uscc/.pyenv/versions/3.6.8/lib/python3.6/site-packages/pandas/compat/__init__.py:120: UserWarning: Could not import the lzma module. Your installed Python is incomplete. Attempting to use lzma compression will result in a RuntimeError.\n",
      "  warnings.warn(msg)\n"
     ]
    }
   ],
   "source": [
    "import os\n",
    "import numpy as np\n",
    "import pandas as pd\n",
    "import random\n",
    "import math\n",
    "from datetime import datetime\n",
    "from math import radians, cos, sin, asin, sqrt\n",
    "import networkx as nx\n",
    "import matplotlib.pyplot as plt"
   ]
  },
  {
   "cell_type": "markdown",
   "metadata": {},
   "source": [
    "### 經緯度換算"
   ]
  },
  {
   "cell_type": "code",
   "execution_count": 2,
   "metadata": {},
   "outputs": [],
   "source": [
    "def haversine(lon1, lat1, lon2, lat2): # 經度1，緯度1，經度2，緯度2 （十進制）\n",
    "    \"\"\"\n",
    "    Calculate the great circle distance between two points \n",
    "    on the earth (specified in decimal degrees)\n",
    "    \"\"\"\n",
    "    # 將十進制轉為弧度\n",
    "    lon1, lat1, lon2, lat2 = map(radians, [lon1, lat1, lon2, lat2])\n",
    " \n",
    "    # haversine公式\n",
    "    dlon = lon2 - lon1 \n",
    "    dlat = lat2 - lat1 \n",
    "    a = sin(dlat/2)**2 + cos(lat1) * cos(lat2) * sin(dlon/2)**2\n",
    "    c = 2 * asin(sqrt(a)) \n",
    "    r = 6371 # 地球平均半徑，單位為公里\n",
    "    return c * r * 1000"
   ]
  },
  {
   "cell_type": "markdown",
   "metadata": {},
   "source": [
    "### File Generate"
   ]
  },
  {
   "cell_type": "code",
   "execution_count": 3,
   "metadata": {},
   "outputs": [],
   "source": [
    "##########edit group size here and day##########\n",
    "groups = 10\n",
    "day = 10\n",
    "################################################"
   ]
  },
  {
   "cell_type": "code",
   "execution_count": 4,
   "metadata": {},
   "outputs": [],
   "source": [
    "friendship_1 = np.array(pd.read_csv('./dataset_WWW2019/dataset_WWW_friendship_new.txt',header=None,sep='\\t'))\n",
    "friendship_2 = np.array(pd.read_csv('./dataset_WWW2019/dataset_WWW_friendship_old.txt',header=None,sep='\\t'))\n",
    "friendship_all = np.concatenate((friendship_1,friendship_2),axis = 0)"
   ]
  },
  {
   "cell_type": "code",
   "execution_count": 5,
   "metadata": {},
   "outputs": [],
   "source": [
    "edge_list = []\n",
    "for i in range(len(friendship_all)):\n",
    "    edge_list.append([friendship_all[i][0], friendship_all[i][1]])"
   ]
  },
  {
   "cell_type": "code",
   "execution_count": 6,
   "metadata": {},
   "outputs": [
    {
     "name": "stdout",
     "output_type": "stream",
     "text": [
      "edge number : 701317 \n",
      "node number : 114324\n"
     ]
    }
   ],
   "source": [
    "G = nx.Graph()\n",
    "# add edge\n",
    "for i in range(len(edge_list)):\n",
    "    G.add_edge(edge_list[i][0],edge_list[i][1])\n",
    "\n",
    "    \n",
    "print('edge number :',G.number_of_edges(),'\\nnode number :',G.number_of_nodes())"
   ]
  },
  {
   "cell_type": "code",
   "execution_count": 7,
   "metadata": {},
   "outputs": [],
   "source": [
    "all_edge = list(G.edges)\n",
    "all_edge.sort()\n",
    "\n",
    "all_node = list(G.nodes)\n",
    "all_node.sort()\n",
    "\n",
    "\n",
    "##### graph.txt\n",
    "with open('./graph_2.txt','w') as f:\n",
    "    f.write('{} {},{},{}\\n'.format('g',G.number_of_nodes(),G.number_of_edges(),day * groups))\n",
    "f.close()\n",
    "\n",
    "#### Node\n",
    "with open('./graph_2.txt','a') as f:\n",
    "    for i in all_node:\n",
    "        node_type = random.randint(0,3)\n",
    "        R = round(random.uniform(0,1),3)\n",
    "        Ct = round(random.uniform(0,1),3)\n",
    "        S = round(random.uniform(0,1),3)\n",
    "        Cr = round(random.uniform(0,1),3)\n",
    "        HI = round(random.uniform(0,1),3)\n",
    "        HA = round(random.uniform(0,1),3)\n",
    "        HT = round(random.uniform(0,1),3)\n",
    "        D = round(random.uniform(0,1),3)\n",
    "        f.write('{} {},{},{},{},{},{},{},{},{},{}\\n'.format('n',i , node_type, R, Ct, S, Cr, HI, HA, HT, D))\n",
    "f.close()\n",
    "\n",
    "#### Edge.txt\n",
    "with open('./graph_2.txt','a') as f:\n",
    "    for i in range(len(all_edge)):\n",
    "        prob = random.uniform(0,1)\n",
    "        node1 = all_edge[i][0] \n",
    "        node2 = all_edge[i][1]\n",
    "        f.write('{} {},{},{}\\n'.format('e', node1,node2,round(prob,3)))\n",
    "f.close()\n"
   ]
  },
  {
   "cell_type": "markdown",
   "metadata": {},
   "source": [
    "#### Read the checkin data"
   ]
  },
  {
   "cell_type": "code",
   "execution_count": 8,
   "metadata": {
    "scrolled": true
   },
   "outputs": [],
   "source": [
    "path = './dataset_WWW2019/dataset_WWW_Checkins_anonymized.txt'"
   ]
  },
  {
   "cell_type": "code",
   "execution_count": 9,
   "metadata": {},
   "outputs": [
    {
     "name": "stdout",
     "output_type": "stream",
     "text": [
      "check in id number :  (114324,)\n"
     ]
    },
    {
     "data": {
      "text/plain": [
       "2199190"
      ]
     },
     "execution_count": 9,
     "metadata": {},
     "output_type": "execute_result"
    }
   ],
   "source": [
    "check_in_data = pd.read_csv(path,header=None,sep='\\t')\n",
    "all_id = check_in_data.iloc[:,0]\n",
    "check_in_id = np.unique(np.array(all_id))\n",
    "print('check in id number : ',check_in_id.shape)\n",
    "np.amax(check_in_id)"
   ]
  },
  {
   "cell_type": "markdown",
   "metadata": {},
   "source": [
    "#### Read the position data"
   ]
  },
  {
   "cell_type": "code",
   "execution_count": 10,
   "metadata": {},
   "outputs": [],
   "source": [
    "place_table = pd.read_csv('./dataset_WWW2019/raw_POIs.txt',header=None,sep='\\t')\n",
    "pid_table = place_table.iloc[:,0]"
   ]
  },
  {
   "cell_type": "markdown",
   "metadata": {},
   "source": [
    "#### Calculate user center"
   ]
  },
  {
   "cell_type": "code",
   "execution_count": 11,
   "metadata": {
    "scrolled": true
   },
   "outputs": [
    {
     "name": "stdout",
     "output_type": "stream",
     "text": [
      "10000\n",
      "23000\n",
      "24000\n",
      "84000\n",
      "88000\n",
      "90000\n",
      "102000\n",
      "128000\n",
      "147000\n",
      "154000\n",
      "158000\n",
      "165000\n",
      "166000\n",
      "183000\n",
      "188000\n",
      "203000\n",
      "232000\n",
      "239000\n",
      "256000\n",
      "257000\n",
      "289000\n",
      "291000\n",
      "298000\n",
      "299000\n",
      "309000\n",
      "320000\n",
      "329000\n",
      "354000\n",
      "359000\n",
      "365000\n",
      "388000\n",
      "402000\n",
      "461000\n",
      "462000\n",
      "472000\n",
      "490000\n",
      "499000\n",
      "517000\n",
      "544000\n",
      "550000\n",
      "585000\n",
      "599000\n",
      "621000\n",
      "640000\n",
      "663000\n",
      "665000\n",
      "669000\n",
      "674000\n",
      "676000\n",
      "686000\n",
      "697000\n",
      "700000\n",
      "717000\n",
      "727000\n",
      "730000\n",
      "761000\n",
      "770000\n",
      "782000\n",
      "784000\n",
      "793000\n",
      "798000\n",
      "807000\n",
      "843000\n",
      "868000\n",
      "871000\n",
      "888000\n",
      "910000\n",
      "927000\n",
      "934000\n",
      "938000\n",
      "942000\n",
      "977000\n",
      "982000\n",
      "995000\n",
      "1019000\n",
      "1077000\n",
      "1093000\n",
      "1105000\n",
      "1109000\n",
      "1111000\n",
      "1130000\n",
      "1158000\n",
      "1167000\n",
      "1198000\n",
      "1226000\n",
      "1227000\n",
      "1236000\n",
      "1256000\n",
      "1299000\n",
      "1323000\n",
      "1331000\n",
      "1343000\n",
      "1345000\n",
      "1387000\n",
      "1395000\n",
      "1413000\n",
      "1423000\n",
      "1431000\n",
      "1488000\n",
      "1502000\n",
      "1527000\n",
      "1592000\n",
      "1624000\n",
      "1642000\n",
      "1643000\n",
      "1657000\n",
      "1688000\n",
      "1698000\n",
      "1700000\n",
      "1851000\n",
      "1904000\n",
      "2059000\n",
      "2095000\n"
     ]
    }
   ],
   "source": [
    "# ## init the dict\n",
    "# user_center = { i : (0,0) for i in all_node }\n",
    "\n",
    "# all_placeID = check_in_data.iloc[:,1]\n",
    "\n",
    "# for _id in check_in_id: \n",
    "#     if _id % 1000 == 0:\n",
    "#         print(_id)\n",
    "#     _data = all_placeID[all_id == _id]\n",
    "#     place = _data.iloc[0]\n",
    "#     _place_data = place_table[pid_table == place]\n",
    "#     x = round(_place_data.iloc[0,1], 3)\n",
    "#     y = round(_place_data.iloc[0,2], 3)\n",
    "#     user_center[_id] = (x,y)"
   ]
  },
  {
   "cell_type": "code",
   "execution_count": 12,
   "metadata": {},
   "outputs": [],
   "source": [
    "# # save the user center\n",
    "# with open('./user_center_2.txt' ,'w') as f:\n",
    "#     for i in all_node:\n",
    "#         f.write('{},{},{}\\n'.format(i,user_center[i][0],user_center[i][1]))\n",
    "# f.close()"
   ]
  },
  {
   "cell_type": "markdown",
   "metadata": {},
   "source": [
    "#### Calculate the max radius"
   ]
  },
  {
   "cell_type": "code",
   "execution_count": 13,
   "metadata": {},
   "outputs": [
    {
     "name": "stdout",
     "output_type": "stream",
     "text": [
      "diagonal length :  14847731.57\n",
      "max radius :  7423865.79\n",
      "84.074 178.423 -56.493 -159.495\n"
     ]
    }
   ],
   "source": [
    "user_center_data = pd.read_csv('./user_center_2.txt',header=None,sep=',')\n",
    "user_x = np.array(user_center_data[:][1])\n",
    "user_y = np.array(user_center_data[:][2])\n",
    "#### find the farest x_value on +x axis and -x axis\n",
    "x_max = np.amax(user_x)\n",
    "x_min = np.amin(user_x)\n",
    "#### find the farest y_value on +y axis and -y axis\n",
    "y_max = np.amax(user_y)\n",
    "y_min = np.amin(user_y)\n",
    "\n",
    "length = round(haversine(80,y_max,x_min,y_min),2)\n",
    "max_radius = round(length/2,2)\n",
    "print('diagonal length : ',length)\n",
    "print('max radius : ',max_radius)\n",
    "print(x_max,y_max,x_min,y_min)"
   ]
  },
  {
   "cell_type": "markdown",
   "metadata": {},
   "source": [
    "#### user on the graph"
   ]
  },
  {
   "cell_type": "code",
   "execution_count": 14,
   "metadata": {},
   "outputs": [
    {
     "data": {
      "image/png": "[encoded data removed]",
      "text/plain": [
       "<Figure size 576x576 with 1 Axes>"
      ]
     },
     "metadata": {
      "needs_background": "light"
     },
     "output_type": "display_data"
    }
   ],
   "source": [
    "plt.figure(figsize=(8,8))\n",
    "plt.scatter(user_x,user_y)\n",
    "plt.show()"
   ]
  },
  {
   "cell_type": "markdown",
   "metadata": {},
   "source": [
    "#### Select the group"
   ]
  },
  {
   "cell_type": "code",
   "execution_count": 16,
   "metadata": {},
   "outputs": [],
   "source": [
    "##### group\n",
    "with open('./graph_2.txt','a') as f:\n",
    "    for d in range(day):    \n",
    "        ## random radius by \"normal distrubtion\"\n",
    "        radius = np.random.normal(max_radius,scale=1000000,size = groups)\n",
    "        ## random user be the center\n",
    "        centers = np.random.randint(0,G.number_of_nodes() - 1,size = groups)\n",
    "        \n",
    "        for idx in range(groups):\n",
    "            # empty set\n",
    "            sd = set()\n",
    "            cost = random.randint(1,10)\n",
    "            lv = random.randint(1,3)\n",
    "            eta = -1\n",
    "            # find the user that in the center range\n",
    "            for i in range(len(all_node)):\n",
    "                center_x = user_center_data[1][centers[idx]]\n",
    "                center_y = user_center_data[2][centers[idx]]\n",
    "                compare_x = user_center_data[1][i]\n",
    "                compare_y = user_center_data[2][i]\n",
    "                l = haversine(center_x, center_y ,compare_x,compare_y ) \n",
    "                if l <= radius[idx]:\n",
    "                    sd.add(i)\n",
    "            f.write('{} {}_{}_{}_{}_{}\\n'.format('X', d, cost, lv, eta, \",\".join(str(i) for i in sd)))        \n",
    "f.close() "
   ]
  }
 ],
 "metadata": {
  "kernelspec": {
   "display_name": "Python 3.6.8 64-bit ('3.6.8': pyenv)",
   "language": "python",
   "name": "python36864bit368pyenvd95b829e87414dda87f73a84dcd10ea0"
  },
  "language_info": {
   "codemirror_mode": {
    "name": "ipython",
    "version": 3
   },
   "file_extension": ".py",
   "mimetype": "text/x-python",
   "name": "python",
   "nbconvert_exporter": "python",
   "pygments_lexer": "ipython3",
   "version": "3.6.8"
  }
 },
 "nbformat": 4,
 "nbformat_minor": 4
}